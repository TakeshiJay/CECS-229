{
 "cells": [
  {
   "cell_type": "markdown",
   "metadata": {},
   "source": [
    "## Jacob Sunia\n",
    "## Prorgramming Assignment No. 5\n",
    "### CECS 229 "
   ]
  },
  {
   "cell_type": "code",
   "execution_count": 2,
   "metadata": {},
   "outputs": [
    {
     "name": "stdout",
     "output_type": "stream",
     "text": [
      "[[18.   7.6]\n",
      " [19.  15.4]\n",
      " [20.  19.9]\n",
      " [21.  22.5]\n",
      " [22.  28.5]\n",
      " [23.  25.2]\n",
      " [24.  30. ]\n",
      " [25.  24. ]\n",
      " [26.  27.6]\n",
      " [27.  35.4]\n",
      " [28.  31.6]\n",
      " [29.  28.3]\n",
      " [30.  26.8]\n",
      " [31.  27. ]\n",
      " [32.  25.3]\n",
      " [33.  27.9]\n",
      " [34.  27.4]\n",
      " [35.  13.8]\n",
      " [36.  22.3]\n",
      " [37.  17.6]]\n",
      "<class 'numpy.ndarray'>\n",
      "(20, 2)\n"
     ]
    }
   ],
   "source": [
    "import numpy as np\n",
    "\n",
    "kobe = [[18, 7.6], [19, 15.4], [20, 19.9], [21, 22.5], [22, 28.5], [23, 25.2],\n",
    "        [24, 30], [25, 24], [26, 27.6] , [27, 35.4], [28, 31.6], [29, 28.3],\n",
    "        [30, 26.8], [31, 27], [32, 25.3], [33, 27.9], [34, 27.4], [35,13.8],\n",
    "        [36, 22.3], [37, 17.6]]\n",
    "\n",
    "kobe_np = np.array(kobe)\n",
    "print(kobe_np)\n",
    "print(type(kobe_np))\n",
    "print(kobe_np.shape)"
   ]
  },
  {
   "cell_type": "code",
   "execution_count": 41,
   "metadata": {},
   "outputs": [
    {
     "name": "stdout",
     "output_type": "stream",
     "text": [
      "Kobe Transpose:\n",
      "[[18.  19.  20.  21.  22.  23.  24.  25.  26.  27.  28.  29.  30.  31.\n",
      "  32.  33.  34.  35.  36.  37. ]\n",
      " [ 7.6 15.4 19.9 22.5 28.5 25.2 30.  24.  27.6 35.4 31.6 28.3 26.8 27.\n",
      "  25.3 27.9 27.4 13.8 22.3 17.6]]\n"
     ]
    }
   ],
   "source": [
    "#Part 3a Transpose\n",
    "def transpose(kobe_np):\n",
    "    kobe_transpose = np.transpose(kobe_np)\n",
    "    return(kobe_transpose)\n",
    "\n",
    "\n",
    "kobe_transpose = transpose(kobe_np)\n",
    "print(\"Kobe Transpose:\")\n",
    "print(kobe_transpose)"
   ]
  },
  {
   "cell_type": "code",
   "execution_count": 42,
   "metadata": {},
   "outputs": [
    {
     "name": "stdout",
     "output_type": "stream",
     "text": [
      "Vector of Ones:\n",
      "[1. 1. 1. 1. 1. 1. 1. 1. 1. 1. 1. 1. 1. 1. 1. 1. 1. 1. 1. 1.]\n"
     ]
    }
   ],
   "source": [
    "#Part 3b Make vetor ones\n",
    "def vector_ones(kobe_np):\n",
    "    kobe_rows = np.shape(kobe_np)[0]\n",
    "    kobe_ones = np.ones(kobe_rows)\n",
    "    return(kobe_ones)\n",
    "\n",
    "ones = vector_ones(kobe_np)\n",
    "print(\"Vector of Ones:\")\n",
    "print(ones)"
   ]
  },
  {
   "cell_type": "code",
   "execution_count": 45,
   "metadata": {},
   "outputs": [
    {
     "name": "stdout",
     "output_type": "stream",
     "text": [
      "Variable A:\n",
      "[18. 19. 20. 21. 22. 23. 24. 25. 26. 27. 28. 29. 30. 31. 32. 33. 34. 35.\n",
      " 36. 37.]\n",
      "\n",
      "Variable y:\n",
      "[ 7.6 15.4 19.9 22.5 28.5 25.2 30.  24.  27.6 35.4 31.6 28.3 26.8 27.\n",
      " 25.3 27.9 27.4 13.8 22.3 17.6]\n"
     ]
    }
   ],
   "source": [
    "#Part 3c Accessing Specific Elements in a numpy array\n",
    "def specific_ele(kobe_np):\n",
    "    A = kobe_np[:,0]\n",
    "    y = kobe_np[:,1]\n",
    "    return(A,y)\n",
    "A,y = specific_ele(kobe_np)\n",
    "\n",
    "print(\"Variable A:\")\n",
    "print(A)\n",
    "print(\"\\nVariable y:\")\n",
    "print(y)"
   ]
  },
  {
   "cell_type": "code",
   "execution_count": 46,
   "metadata": {},
   "outputs": [
    {
     "name": "stdout",
     "output_type": "stream",
     "text": [
      "Concatenation of A and ones:\n",
      "[[18.  1.]\n",
      " [19.  1.]\n",
      " [20.  1.]\n",
      " [21.  1.]\n",
      " [22.  1.]\n",
      " [23.  1.]\n",
      " [24.  1.]\n",
      " [25.  1.]\n",
      " [26.  1.]\n",
      " [27.  1.]\n",
      " [28.  1.]\n",
      " [29.  1.]\n",
      " [30.  1.]\n",
      " [31.  1.]\n",
      " [32.  1.]\n",
      " [33.  1.]\n",
      " [34.  1.]\n",
      " [35.  1.]\n",
      " [36.  1.]\n",
      " [37.  1.]]\n"
     ]
    }
   ],
   "source": [
    "#Part 3d: Concatenate two numpy arrays\n",
    "def concatenate(col1,col2):\n",
    "    x = np.column_stack((col1,col2))\n",
    "    return(x)\n",
    "\n",
    "x = concatenate(A,ones)\n",
    "print(\"Concatenation of A and ones:\")\n",
    "print(x)"
   ]
  },
  {
   "cell_type": "code",
   "execution_count": 49,
   "metadata": {},
   "outputs": [
    {
     "name": "stdout",
     "output_type": "stream",
     "text": [
      "Product of x_transpose and x:\n",
      "[[15790.   550.]\n",
      " [  550.    20.]]\n"
     ]
    }
   ],
   "source": [
    "#Part 3e: Matrix Multiplication\n",
    "def matrix_mul(mat1, mat2):\n",
    "    x_prod = np.matmul(mat1,mat2)\n",
    "    return(x_prod)\n",
    "\n",
    "x_transpose = transpose(x)\n",
    "x_prod = matrix_mul(x_transpose,x)\n",
    "\n",
    "print(\"Product of x_transpose and x:\")\n",
    "print(x_prod)\n"
   ]
  },
  {
   "cell_type": "code",
   "execution_count": 50,
   "metadata": {},
   "outputs": [
    {
     "name": "stdout",
     "output_type": "stream",
     "text": [
      "x_prod_inv:\n",
      "[[ 0.00150376 -0.04135338]\n",
      " [-0.04135338  1.18721805]]\n",
      "\n",
      "Theta[0]:\n",
      "0.199323308270678\n",
      "\n",
      "Theta[1]:\n",
      "18.72360902255639\n"
     ]
    }
   ],
   "source": [
    "#Part 4: On your Own\n",
    "x_prod_inv = np.linalg.inv(x_prod)\n",
    "y_prod = matrix_mul(x_transpose,y)\n",
    "theta = matrix_mul(x_prod_inv,y_prod)\n",
    "\n",
    "print(\"x_prod_inv:\")\n",
    "print(x_prod_inv)\n",
    "print(\"\\nTheta[0]:\")\n",
    "print(theta[0])\n",
    "print(\"\\nTheta[1]:\")\n",
    "print(theta[1])"
   ]
  },
  {
   "cell_type": "code",
   "execution_count": null,
   "metadata": {},
   "outputs": [],
   "source": []
  }
 ],
 "metadata": {
  "kernelspec": {
   "display_name": "Python 3",
   "language": "python",
   "name": "python3"
  },
  "language_info": {
   "codemirror_mode": {
    "name": "ipython",
    "version": 3
   },
   "file_extension": ".py",
   "mimetype": "text/x-python",
   "name": "python",
   "nbconvert_exporter": "python",
   "pygments_lexer": "ipython3",
   "version": "3.8.3"
  }
 },
 "nbformat": 4,
 "nbformat_minor": 4
}
